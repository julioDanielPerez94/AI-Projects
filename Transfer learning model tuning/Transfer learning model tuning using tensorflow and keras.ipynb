{
 "cells": [
  {
   "cell_type": "markdown",
   "metadata": {},
   "source": [
    "## Aprendizaje por transferencia"
   ]
  },
  {
   "cell_type": "markdown",
   "metadata": {},
   "source": [
    "En este notebook vamos a usar una red convolucional para entrenar un modelo con imágenes.\n",
    "\n",
    "En la segunda parte, intentaremos mejorar este modelo usando aprendizaje por transferencia."
   ]
  },
  {
   "cell_type": "code",
   "execution_count": 1,
   "metadata": {},
   "outputs": [
    {
     "data": {
      "text/plain": [
       "'2.0.0'"
      ]
     },
     "execution_count": 1,
     "metadata": {},
     "output_type": "execute_result"
    }
   ],
   "source": [
    "import tensorflow as tf\n",
    "import numpy as np\n",
    "\n",
    "tf.__version__"
   ]
  },
  {
   "cell_type": "code",
   "execution_count": 2,
   "metadata": {},
   "outputs": [
    {
     "name": "stdout",
     "output_type": "stream",
     "text": [
      "Python 3.7.4\n"
     ]
    }
   ],
   "source": [
    "!python --version"
   ]
  },
  {
   "cell_type": "markdown",
   "metadata": {},
   "source": [
    "En este caso vamos a importar de Keras un dataset que contiene imágenes de números escritos a mano, con su correspondientes etiquetas."
   ]
  },
  {
   "cell_type": "code",
   "execution_count": 3,
   "metadata": {},
   "outputs": [
    {
     "name": "stderr",
     "output_type": "stream",
     "text": [
      "Using TensorFlow backend.\n"
     ]
    }
   ],
   "source": [
    "from keras.datasets import mnist\n",
    "\n",
    "(X_train, y_train), (X_test, y_test) = mnist.load_data()"
   ]
  },
  {
   "cell_type": "markdown",
   "metadata": {},
   "source": [
    "Nuestro objetivo con este dataset es distintguir entre los 0 y los 1, por lo que nos quedamos únicamente con las muestras que tienen esos valores"
   ]
  },
  {
   "cell_type": "code",
   "execution_count": 4,
   "metadata": {},
   "outputs": [],
   "source": [
    "desired_index_train = np.where((y_train == 4) | (y_train == 9))\n",
    "desired_index_test = np.where((y_test == 4) | (y_test == 9))"
   ]
  },
  {
   "cell_type": "code",
   "execution_count": 5,
   "metadata": {},
   "outputs": [],
   "source": [
    "X_train_new_values = X_train[desired_index_train]\n",
    "y_train_new_values = y_train[desired_index_train]\n",
    "X_test_new_values = X_test[desired_index_test]\n",
    "y_test_new_values = y_test[desired_index_test]"
   ]
  },
  {
   "cell_type": "markdown",
   "metadata": {},
   "source": [
    "La nueva forma de nuestros datos."
   ]
  },
  {
   "cell_type": "code",
   "execution_count": 6,
   "metadata": {},
   "outputs": [
    {
     "name": "stdout",
     "output_type": "stream",
     "text": [
      "(11791, 28, 28)\n",
      "(11791,)\n",
      "(1991, 28, 28)\n",
      "(1991,)\n"
     ]
    }
   ],
   "source": [
    "print(X_train_new_values.shape)\n",
    "print(y_train_new_values.shape)\n",
    "print(X_test_new_values.shape)\n",
    "print(y_test_new_values.shape)"
   ]
  },
  {
   "cell_type": "code",
   "execution_count": 7,
   "metadata": {},
   "outputs": [
    {
     "data": {
      "text/plain": [
       "array([4, 9, 4, ..., 4, 9, 9], dtype=uint8)"
      ]
     },
     "execution_count": 7,
     "metadata": {},
     "output_type": "execute_result"
    }
   ],
   "source": [
    "y_train_new_values"
   ]
  },
  {
   "cell_type": "code",
   "execution_count": 8,
   "metadata": {},
   "outputs": [],
   "source": [
    "y_train_new_values[y_train_new_values == 4] = 0\n",
    "y_train_new_values[y_train_new_values == 9] = 1\n",
    "y_test_new_values[y_test_new_values == 4] = 0\n",
    "y_test_new_values[y_test_new_values == 9] = 1"
   ]
  },
  {
   "cell_type": "code",
   "execution_count": 9,
   "metadata": {},
   "outputs": [
    {
     "data": {
      "text/plain": [
       "array([0, 1, 0, ..., 0, 1, 1], dtype=uint8)"
      ]
     },
     "execution_count": 9,
     "metadata": {},
     "output_type": "execute_result"
    }
   ],
   "source": [
    "y_train_new_values"
   ]
  },
  {
   "cell_type": "markdown",
   "metadata": {},
   "source": [
    "Aquí podemos ver la primera imágen y la forma que tiene."
   ]
  },
  {
   "cell_type": "code",
   "execution_count": 10,
   "metadata": {},
   "outputs": [
    {
     "name": "stdout",
     "output_type": "stream",
     "text": [
      "0\n"
     ]
    }
   ],
   "source": [
    "import matplotlib.pyplot as plt\n",
    "\n",
    "first_image = X_train_new_values[0]\n",
    "plt.imshow(first_image, cmap='gray')\n",
    "first_label = y_train_new_values[0]\n",
    "print(first_label)"
   ]
  },
  {
   "cell_type": "code",
   "execution_count": 11,
   "metadata": {},
   "outputs": [
    {
     "name": "stdout",
     "output_type": "stream",
     "text": [
      "Valor máximo de un pixel: 255\n",
      "Valor mínimo de un pixel: 0\n"
     ]
    }
   ],
   "source": [
    "print('Valor máximo de un pixel:', X_train_new_values.max())\n",
    "print('Valor mínimo de un pixel:',X_train_new_values.min())"
   ]
  },
  {
   "cell_type": "markdown",
   "metadata": {},
   "source": [
    "Al igual que en el ejercicio sencillo, debemos estandarizar los datos para que preste la misma atención a cada una de las variables, o en este caso, cada uno de los pixeles\n",
    "\n",
    "En este caso, como hemos visto que los valores van desde 0 a 255, dividimos entre 255 para obtener nuestros resultados entre 0 y 1."
   ]
  },
  {
   "cell_type": "code",
   "execution_count": 12,
   "metadata": {},
   "outputs": [],
   "source": [
    "X_train_scaled = X_train_new_values/255.\n",
    "X_test_scaled = X_test_new_values/255."
   ]
  },
  {
   "cell_type": "code",
   "execution_count": 13,
   "metadata": {},
   "outputs": [
    {
     "name": "stdout",
     "output_type": "stream",
     "text": [
      "Valor máximo de un pixel: 1.0\n",
      "Valor mínimo de un pixel: 0.0\n"
     ]
    }
   ],
   "source": [
    "print('Valor máximo de un pixel:', X_train_scaled.max())\n",
    "print('Valor mínimo de un pixel:',X_test_scaled.min())"
   ]
  },
  {
   "cell_type": "markdown",
   "metadata": {},
   "source": [
    "Modificamos los datos, ya que al estar solamente en una dimension (blanco y negro) y no en 3 (como podria ser rgb), necesitamos añadirle una dimensión más a los datos para que la capa convoluiconal de dos dimensiones la acepte."
   ]
  },
  {
   "cell_type": "code",
   "execution_count": 14,
   "metadata": {},
   "outputs": [],
   "source": [
    "img_rows, img_cols = 28, 28\n",
    "\n",
    "X_train_scaled = X_train_scaled.reshape(X_train_scaled.shape[0], img_rows, img_cols, 1)\n",
    "X_test_scaled = X_test_scaled.reshape(X_test_scaled.shape[0], img_rows, img_cols, 1)\n",
    "input_shape_nn = (img_rows, img_cols, 1)"
   ]
  },
  {
   "cell_type": "code",
   "execution_count": 15,
   "metadata": {},
   "outputs": [
    {
     "data": {
      "text/plain": [
       "array([[[[0.],\n",
       "         [0.],\n",
       "         [0.],\n",
       "         ...,\n",
       "         [0.],\n",
       "         [0.],\n",
       "         [0.]],\n",
       "\n",
       "        [[0.],\n",
       "         [0.],\n",
       "         [0.],\n",
       "         ...,\n",
       "         [0.],\n",
       "         [0.],\n",
       "         [0.]],\n",
       "\n",
       "        [[0.],\n",
       "         [0.],\n",
       "         [0.],\n",
       "         ...,\n",
       "         [0.],\n",
       "         [0.],\n",
       "         [0.]],\n",
       "\n",
       "        ...,\n",
       "\n",
       "        [[0.],\n",
       "         [0.],\n",
       "         [0.],\n",
       "         ...,\n",
       "         [0.],\n",
       "         [0.],\n",
       "         [0.]],\n",
       "\n",
       "        [[0.],\n",
       "         [0.],\n",
       "         [0.],\n",
       "         ...,\n",
       "         [0.],\n",
       "         [0.],\n",
       "         [0.]],\n",
       "\n",
       "        [[0.],\n",
       "         [0.],\n",
       "         [0.],\n",
       "         ...,\n",
       "         [0.],\n",
       "         [0.],\n",
       "         [0.]]],\n",
       "\n",
       "\n",
       "       [[[0.],\n",
       "         [0.],\n",
       "         [0.],\n",
       "         ...,\n",
       "         [0.],\n",
       "         [0.],\n",
       "         [0.]],\n",
       "\n",
       "        [[0.],\n",
       "         [0.],\n",
       "         [0.],\n",
       "         ...,\n",
       "         [0.],\n",
       "         [0.],\n",
       "         [0.]],\n",
       "\n",
       "        [[0.],\n",
       "         [0.],\n",
       "         [0.],\n",
       "         ...,\n",
       "         [0.],\n",
       "         [0.],\n",
       "         [0.]],\n",
       "\n",
       "        ...,\n",
       "\n",
       "        [[0.],\n",
       "         [0.],\n",
       "         [0.],\n",
       "         ...,\n",
       "         [0.],\n",
       "         [0.],\n",
       "         [0.]],\n",
       "\n",
       "        [[0.],\n",
       "         [0.],\n",
       "         [0.],\n",
       "         ...,\n",
       "         [0.],\n",
       "         [0.],\n",
       "         [0.]],\n",
       "\n",
       "        [[0.],\n",
       "         [0.],\n",
       "         [0.],\n",
       "         ...,\n",
       "         [0.],\n",
       "         [0.],\n",
       "         [0.]]],\n",
       "\n",
       "\n",
       "       [[[0.],\n",
       "         [0.],\n",
       "         [0.],\n",
       "         ...,\n",
       "         [0.],\n",
       "         [0.],\n",
       "         [0.]],\n",
       "\n",
       "        [[0.],\n",
       "         [0.],\n",
       "         [0.],\n",
       "         ...,\n",
       "         [0.],\n",
       "         [0.],\n",
       "         [0.]],\n",
       "\n",
       "        [[0.],\n",
       "         [0.],\n",
       "         [0.],\n",
       "         ...,\n",
       "         [0.],\n",
       "         [0.],\n",
       "         [0.]],\n",
       "\n",
       "        ...,\n",
       "\n",
       "        [[0.],\n",
       "         [0.],\n",
       "         [0.],\n",
       "         ...,\n",
       "         [0.],\n",
       "         [0.],\n",
       "         [0.]],\n",
       "\n",
       "        [[0.],\n",
       "         [0.],\n",
       "         [0.],\n",
       "         ...,\n",
       "         [0.],\n",
       "         [0.],\n",
       "         [0.]],\n",
       "\n",
       "        [[0.],\n",
       "         [0.],\n",
       "         [0.],\n",
       "         ...,\n",
       "         [0.],\n",
       "         [0.],\n",
       "         [0.]]],\n",
       "\n",
       "\n",
       "       ...,\n",
       "\n",
       "\n",
       "       [[[0.],\n",
       "         [0.],\n",
       "         [0.],\n",
       "         ...,\n",
       "         [0.],\n",
       "         [0.],\n",
       "         [0.]],\n",
       "\n",
       "        [[0.],\n",
       "         [0.],\n",
       "         [0.],\n",
       "         ...,\n",
       "         [0.],\n",
       "         [0.],\n",
       "         [0.]],\n",
       "\n",
       "        [[0.],\n",
       "         [0.],\n",
       "         [0.],\n",
       "         ...,\n",
       "         [0.],\n",
       "         [0.],\n",
       "         [0.]],\n",
       "\n",
       "        ...,\n",
       "\n",
       "        [[0.],\n",
       "         [0.],\n",
       "         [0.],\n",
       "         ...,\n",
       "         [0.],\n",
       "         [0.],\n",
       "         [0.]],\n",
       "\n",
       "        [[0.],\n",
       "         [0.],\n",
       "         [0.],\n",
       "         ...,\n",
       "         [0.],\n",
       "         [0.],\n",
       "         [0.]],\n",
       "\n",
       "        [[0.],\n",
       "         [0.],\n",
       "         [0.],\n",
       "         ...,\n",
       "         [0.],\n",
       "         [0.],\n",
       "         [0.]]],\n",
       "\n",
       "\n",
       "       [[[0.],\n",
       "         [0.],\n",
       "         [0.],\n",
       "         ...,\n",
       "         [0.],\n",
       "         [0.],\n",
       "         [0.]],\n",
       "\n",
       "        [[0.],\n",
       "         [0.],\n",
       "         [0.],\n",
       "         ...,\n",
       "         [0.],\n",
       "         [0.],\n",
       "         [0.]],\n",
       "\n",
       "        [[0.],\n",
       "         [0.],\n",
       "         [0.],\n",
       "         ...,\n",
       "         [0.],\n",
       "         [0.],\n",
       "         [0.]],\n",
       "\n",
       "        ...,\n",
       "\n",
       "        [[0.],\n",
       "         [0.],\n",
       "         [0.],\n",
       "         ...,\n",
       "         [0.],\n",
       "         [0.],\n",
       "         [0.]],\n",
       "\n",
       "        [[0.],\n",
       "         [0.],\n",
       "         [0.],\n",
       "         ...,\n",
       "         [0.],\n",
       "         [0.],\n",
       "         [0.]],\n",
       "\n",
       "        [[0.],\n",
       "         [0.],\n",
       "         [0.],\n",
       "         ...,\n",
       "         [0.],\n",
       "         [0.],\n",
       "         [0.]]],\n",
       "\n",
       "\n",
       "       [[[0.],\n",
       "         [0.],\n",
       "         [0.],\n",
       "         ...,\n",
       "         [0.],\n",
       "         [0.],\n",
       "         [0.]],\n",
       "\n",
       "        [[0.],\n",
       "         [0.],\n",
       "         [0.],\n",
       "         ...,\n",
       "         [0.],\n",
       "         [0.],\n",
       "         [0.]],\n",
       "\n",
       "        [[0.],\n",
       "         [0.],\n",
       "         [0.],\n",
       "         ...,\n",
       "         [0.],\n",
       "         [0.],\n",
       "         [0.]],\n",
       "\n",
       "        ...,\n",
       "\n",
       "        [[0.],\n",
       "         [0.],\n",
       "         [0.],\n",
       "         ...,\n",
       "         [0.],\n",
       "         [0.],\n",
       "         [0.]],\n",
       "\n",
       "        [[0.],\n",
       "         [0.],\n",
       "         [0.],\n",
       "         ...,\n",
       "         [0.],\n",
       "         [0.],\n",
       "         [0.]],\n",
       "\n",
       "        [[0.],\n",
       "         [0.],\n",
       "         [0.],\n",
       "         ...,\n",
       "         [0.],\n",
       "         [0.],\n",
       "         [0.]]]])"
      ]
     },
     "execution_count": 15,
     "metadata": {},
     "output_type": "execute_result"
    }
   ],
   "source": [
    "X_train_scaled"
   ]
  },
  {
   "cell_type": "markdown",
   "metadata": {},
   "source": [
    "Y a continuación, como ya tenemos los datos, vamos a probar los distintos métodos. "
   ]
  },
  {
   "cell_type": "markdown",
   "metadata": {},
   "source": [
    "### Red convolucional simple"
   ]
  },
  {
   "cell_type": "markdown",
   "metadata": {},
   "source": [
    "Creamos nuetsra red convolucional simple usando algunas de las capas que hemos visto como son maxpool o convolucionales"
   ]
  },
  {
   "cell_type": "code",
   "execution_count": 16,
   "metadata": {},
   "outputs": [],
   "source": [
    "from keras import models, layers\n",
    "model = models.Sequential()"
   ]
  },
  {
   "cell_type": "code",
   "execution_count": 17,
   "metadata": {},
   "outputs": [],
   "source": [
    "# #Esta será nuestra capa de entrada\n",
    "# input_shape_nn = (28, 28, 1)\n",
    "# input_shape_nn"
   ]
  },
  {
   "cell_type": "markdown",
   "metadata": {},
   "source": [
    "Ya podemos añadir al modelo las capas de una en una."
   ]
  },
  {
   "cell_type": "markdown",
   "metadata": {},
   "source": [
    "En este caso usamos una capa convolucional, con 16 filtros distintos y que usa un kernel de convolución de 3x3. Como función de actiación usamos una relu, ya que ayuda a regularizar y como inicialización de los pesos, usamos he_uniform que es uno de los reocmendados cuando se usa relu."
   ]
  },
  {
   "cell_type": "code",
   "execution_count": 18,
   "metadata": {},
   "outputs": [],
   "source": [
    "model.add(layers.Conv2D(16, (3, 3), activation='relu', kernel_initializer='he_uniform', input_shape = input_shape_nn))"
   ]
  },
  {
   "cell_type": "code",
   "execution_count": 19,
   "metadata": {},
   "outputs": [],
   "source": [
    "model.add(layers.MaxPooling2D((2, 2)))"
   ]
  },
  {
   "cell_type": "markdown",
   "metadata": {},
   "source": [
    "Cuando queremos terminar nuestro modelo, debemos trasnformar nuestros datos a una sola dimensión con el objetivo de hacer nuestras capas dense y nuestra última neurona de salida."
   ]
  },
  {
   "cell_type": "code",
   "execution_count": 20,
   "metadata": {},
   "outputs": [],
   "source": [
    "model.add(layers.Flatten())"
   ]
  },
  {
   "cell_type": "code",
   "execution_count": 21,
   "metadata": {},
   "outputs": [],
   "source": [
    "model.add(layers.Dense(8, activation='relu', kernel_initializer='he_uniform'))"
   ]
  },
  {
   "cell_type": "markdown",
   "metadata": {},
   "source": [
    "Importante: Añadir una última función de activación apropiada con nuestro problemas. En este caso, como queremos clasificar nuestros datos entre los que son 0 y 1, escogemos una sigmoide."
   ]
  },
  {
   "cell_type": "code",
   "execution_count": 22,
   "metadata": {},
   "outputs": [],
   "source": [
    "model.add(layers.Dense(1, activation='sigmoid'))"
   ]
  },
  {
   "cell_type": "code",
   "execution_count": 23,
   "metadata": {},
   "outputs": [
    {
     "name": "stdout",
     "output_type": "stream",
     "text": [
      "Model: \"sequential_1\"\n",
      "_________________________________________________________________\n",
      "Layer (type)                 Output Shape              Param #   \n",
      "=================================================================\n",
      "conv2d_1 (Conv2D)            (None, 26, 26, 16)        160       \n",
      "_________________________________________________________________\n",
      "max_pooling2d_1 (MaxPooling2 (None, 13, 13, 16)        0         \n",
      "_________________________________________________________________\n",
      "flatten_1 (Flatten)          (None, 2704)              0         \n",
      "_________________________________________________________________\n",
      "dense_1 (Dense)              (None, 8)                 21640     \n",
      "_________________________________________________________________\n",
      "dense_2 (Dense)              (None, 1)                 9         \n",
      "=================================================================\n",
      "Total params: 21,809\n",
      "Trainable params: 21,809\n",
      "Non-trainable params: 0\n",
      "_________________________________________________________________\n"
     ]
    }
   ],
   "source": [
    "model.summary()"
   ]
  },
  {
   "cell_type": "markdown",
   "metadata": {},
   "source": [
    "Definimos los demás hiperparametros del modelo. Como optimizador usamos un gradiente descendiente estocastico (SGD) \n",
    "con un learning rate de 0.001. Para la función de error (loss), usamos la entropía cruzada que es de las \n",
    "más eficientes en los problemas de clasificación. Y por último para evaluar el modelo usaremos accuracy, que es simplemente el porcentaje de\n",
    "muestras que acierta del total"
   ]
  },
  {
   "cell_type": "code",
   "execution_count": 24,
   "metadata": {},
   "outputs": [],
   "source": [
    "from keras.optimizers import SGD\n",
    "# compile model\n",
    "optim = SGD(lr=0.001)\n",
    "model.compile(optimizer=optim, loss='binary_crossentropy', metrics=['accuracy'])"
   ]
  },
  {
   "cell_type": "markdown",
   "metadata": {},
   "source": [
    "Ahora ya se puede entrenar el modelo. En la siguiente linea se le pasa la opción *validation_split* = 0.2, lo que significa es que dividirá los datos de entrenamiento en 2, uno para entrenar los parametros y otro para monitorizar el rendimiento en un conjunto fuera de este."
   ]
  },
  {
   "cell_type": "code",
   "execution_count": 25,
   "metadata": {
    "scrolled": true
   },
   "outputs": [
    {
     "name": "stdout",
     "output_type": "stream",
     "text": [
      "Train on 9432 samples, validate on 2359 samples\n",
      "Epoch 1/30\n",
      "9432/9432 [==============================] - 1s 141us/step - loss: 0.5084 - accuracy: 0.7946 - val_loss: 0.3439 - val_accuracy: 0.9152\n",
      "Epoch 2/30\n",
      "9432/9432 [==============================] - 1s 135us/step - loss: 0.2892 - accuracy: 0.9341 - val_loss: 0.2313 - val_accuracy: 0.9487\n",
      "Epoch 3/30\n",
      "9432/9432 [==============================] - 1s 135us/step - loss: 0.2132 - accuracy: 0.9509 - val_loss: 0.1810 - val_accuracy: 0.9606\n",
      "Epoch 4/30\n",
      "9432/9432 [==============================] - 1s 135us/step - loss: 0.1752 - accuracy: 0.9559 - val_loss: 0.1541 - val_accuracy: 0.9631\n",
      "Epoch 5/30\n",
      "9432/9432 [==============================] - 1s 135us/step - loss: 0.1526 - accuracy: 0.9591 - val_loss: 0.1367 - val_accuracy: 0.9631\n",
      "Epoch 6/30\n",
      "9432/9432 [==============================] - 1s 134us/step - loss: 0.1379 - accuracy: 0.9622 - val_loss: 0.1247 - val_accuracy: 0.9652\n",
      "Epoch 7/30\n",
      "9432/9432 [==============================] - 1s 135us/step - loss: 0.1271 - accuracy: 0.9630 - val_loss: 0.1171 - val_accuracy: 0.9669\n",
      "Epoch 8/30\n",
      "9432/9432 [==============================] - 1s 136us/step - loss: 0.1195 - accuracy: 0.9638 - val_loss: 0.1099 - val_accuracy: 0.9678\n",
      "Epoch 9/30\n",
      "9432/9432 [==============================] - 1s 140us/step - loss: 0.1132 - accuracy: 0.9652 - val_loss: 0.1049 - val_accuracy: 0.9695\n",
      "Epoch 10/30\n",
      "9432/9432 [==============================] - 1s 138us/step - loss: 0.1082 - accuracy: 0.9653 - val_loss: 0.1004 - val_accuracy: 0.9720\n",
      "Epoch 11/30\n",
      "9432/9432 [==============================] - 1s 138us/step - loss: 0.1040 - accuracy: 0.9661 - val_loss: 0.0972 - val_accuracy: 0.9733\n",
      "Epoch 12/30\n",
      "9432/9432 [==============================] - 1s 141us/step - loss: 0.1005 - accuracy: 0.9672 - val_loss: 0.0939 - val_accuracy: 0.9729\n",
      "Epoch 13/30\n",
      "9432/9432 [==============================] - 1s 137us/step - loss: 0.0974 - accuracy: 0.9685 - val_loss: 0.0913 - val_accuracy: 0.9733\n",
      "Epoch 14/30\n",
      "9432/9432 [==============================] - 1s 135us/step - loss: 0.0948 - accuracy: 0.9682 - val_loss: 0.0893 - val_accuracy: 0.9741\n",
      "Epoch 15/30\n",
      "9432/9432 [==============================] - 1s 135us/step - loss: 0.0924 - accuracy: 0.9694 - val_loss: 0.0872 - val_accuracy: 0.9741\n",
      "Epoch 16/30\n",
      "9432/9432 [==============================] - 1s 133us/step - loss: 0.0902 - accuracy: 0.9700 - val_loss: 0.0848 - val_accuracy: 0.9741\n",
      "Epoch 17/30\n",
      "9432/9432 [==============================] - 1s 136us/step - loss: 0.0883 - accuracy: 0.9715 - val_loss: 0.0833 - val_accuracy: 0.9750\n",
      "Epoch 18/30\n",
      "9432/9432 [==============================] - 1s 134us/step - loss: 0.0863 - accuracy: 0.9716 - val_loss: 0.0824 - val_accuracy: 0.9741\n",
      "Epoch 19/30\n",
      "9432/9432 [==============================] - 1s 137us/step - loss: 0.0846 - accuracy: 0.9719 - val_loss: 0.0803 - val_accuracy: 0.9754\n",
      "Epoch 20/30\n",
      "9432/9432 [==============================] - 1s 133us/step - loss: 0.0833 - accuracy: 0.9728 - val_loss: 0.0790 - val_accuracy: 0.9763\n",
      "Epoch 21/30\n",
      "9432/9432 [==============================] - 1s 134us/step - loss: 0.0817 - accuracy: 0.9729 - val_loss: 0.0779 - val_accuracy: 0.9763\n",
      "Epoch 22/30\n",
      "9432/9432 [==============================] - 1s 133us/step - loss: 0.0804 - accuracy: 0.9736 - val_loss: 0.0767 - val_accuracy: 0.9763\n",
      "Epoch 23/30\n",
      "9432/9432 [==============================] - 1s 134us/step - loss: 0.0792 - accuracy: 0.9738 - val_loss: 0.0757 - val_accuracy: 0.9771\n",
      "Epoch 24/30\n",
      "9432/9432 [==============================] - 1s 136us/step - loss: 0.0778 - accuracy: 0.9740 - val_loss: 0.0746 - val_accuracy: 0.9771\n",
      "Epoch 25/30\n",
      "9432/9432 [==============================] - 1s 155us/step - loss: 0.0767 - accuracy: 0.9752 - val_loss: 0.0738 - val_accuracy: 0.9775\n",
      "Epoch 26/30\n",
      "9432/9432 [==============================] - 1s 146us/step - loss: 0.0756 - accuracy: 0.9748 - val_loss: 0.0727 - val_accuracy: 0.9780\n",
      "Epoch 27/30\n",
      "9432/9432 [==============================] - 1s 137us/step - loss: 0.0746 - accuracy: 0.9757 - val_loss: 0.0721 - val_accuracy: 0.9775\n",
      "Epoch 28/30\n",
      "9432/9432 [==============================] - 1s 138us/step - loss: 0.0736 - accuracy: 0.9759 - val_loss: 0.0718 - val_accuracy: 0.9780\n",
      "Epoch 29/30\n",
      "9432/9432 [==============================] - 1s 138us/step - loss: 0.0728 - accuracy: 0.9761 - val_loss: 0.0710 - val_accuracy: 0.9784\n",
      "Epoch 30/30\n",
      "9432/9432 [==============================] - 1s 139us/step - loss: 0.0719 - accuracy: 0.9769 - val_loss: 0.0697 - val_accuracy: 0.9788\n"
     ]
    }
   ],
   "source": [
    "history = model.fit(X_train_scaled, y_train_new_values, validation_split=0.2, epochs=30)"
   ]
  },
  {
   "cell_type": "code",
   "execution_count": 26,
   "metadata": {},
   "outputs": [
    {
     "data": {
      "image/png": "[encoded data removed]",
      "text/plain": [
       "<Figure size 432x288 with 1 Axes>"
      ]
     },
     "metadata": {
      "needs_background": "light"
     },
     "output_type": "display_data"
    }
   ],
   "source": [
    "import matplotlib.pyplot as plt\n",
    "plt.plot(history.history['loss'])\n",
    "plt.plot(history.history['val_loss'])\n",
    "plt.title('model loss')\n",
    "plt.ylabel('loss')\n",
    "plt.xlabel('epoch')\n",
    "plt.legend(['train', 'test'], loc='upper left')\n",
    "plt.show()"
   ]
  },
  {
   "cell_type": "markdown",
   "metadata": {},
   "source": [
    "Vemos como la función de perdida ha ido disminuyendo en cada época."
   ]
  },
  {
   "cell_type": "markdown",
   "metadata": {},
   "source": [
    "Por último estimemos el error en el futuro con el conjunto test"
   ]
  },
  {
   "cell_type": "code",
   "execution_count": 27,
   "metadata": {},
   "outputs": [],
   "source": [
    "from sklearn.metrics import accuracy_score\n",
    "prediccion = model.predict(X_test_scaled)"
   ]
  },
  {
   "cell_type": "code",
   "execution_count": 28,
   "metadata": {},
   "outputs": [
    {
     "data": {
      "text/plain": [
       "0.9789050728277248"
      ]
     },
     "execution_count": 28,
     "metadata": {},
     "output_type": "execute_result"
    }
   ],
   "source": [
    "accuracy_score(y_test_new_values, np.round(prediccion))"
   ]
  },
  {
   "cell_type": "code",
   "execution_count": 29,
   "metadata": {},
   "outputs": [
    {
     "data": {
      "text/plain": [
       "array([[958,  24],\n",
       "       [ 18, 991]], dtype=int64)"
      ]
     },
     "execution_count": 29,
     "metadata": {},
     "output_type": "execute_result"
    }
   ],
   "source": [
    "from sklearn.metrics import confusion_matrix\n",
    "confusion_matrix(y_test_new_values, np.round(prediccion))"
   ]
  },
  {
   "cell_type": "markdown",
   "metadata": {},
   "source": [
    "En este caso hemos obtenido un 97.8% de aciertos, lo cuál esta muy bien. Sin embargo hay otras opciones que pueden ayudarnos a mejorar este resultado."
   ]
  },
  {
   "cell_type": "markdown",
   "metadata": {},
   "source": [
    "### Aprendizaje por transferencia"
   ]
  },
  {
   "cell_type": "markdown",
   "metadata": {},
   "source": [
    "Tal y como se comenta en los apuntes, el aprendizaje por transferencia coge una red neuronal previamente entrenada y congela las primeras capas para no tener que volver a entrenarlas.\n",
    "\n",
    "Por suerte, keras nos ofrece algunos modelos pre-entrenados que pueden ser muy útiles para estos casos:"
   ]
  },
  {
   "cell_type": "markdown",
   "metadata": {},
   "source": [
    "En este caso, el modelo preentrenado necesita una entrada de imagenes con tres canales (en rgb), \n",
    "mientras que nuestras imagenes están en blanco y negro, por loq ue realizaremos unas pequeñas transformaciones para \n",
    "obtener los datos de forma que el modelo los pueda ingerir"
   ]
  },
  {
   "cell_type": "code",
   "execution_count": 30,
   "metadata": {},
   "outputs": [
    {
     "data": {
      "text/plain": [
       "(11791, 28, 28, 1)"
      ]
     },
     "execution_count": 30,
     "metadata": {},
     "output_type": "execute_result"
    }
   ],
   "source": [
    "X_train_scaled.shape"
   ]
  },
  {
   "cell_type": "code",
   "execution_count": 31,
   "metadata": {},
   "outputs": [],
   "source": [
    "img_rows = 32\n",
    "img_cols = 32\n",
    "\n",
    "X_train_scaled_rgb = np.zeros(shape=(X_train_scaled.shape[0], img_rows, img_cols, 3))\n",
    "for i in range(X_train_scaled.shape[0]):\n",
    "    reshape_img = np.pad(X_train_scaled[i,:,:,0], (2,2), mode='edge')\n",
    "#     reshape_img.shape\n",
    "    X_train_scaled_rgb[i,:,:,0] = reshape_img\n",
    "    X_train_scaled_rgb[i,:,:,1] = reshape_img\n",
    "    X_train_scaled_rgb[i,:,:,2] = reshape_img"
   ]
  },
  {
   "cell_type": "code",
   "execution_count": 32,
   "metadata": {},
   "outputs": [
    {
     "data": {
      "text/plain": [
       "(11791, 32, 32, 3)"
      ]
     },
     "execution_count": 32,
     "metadata": {},
     "output_type": "execute_result"
    }
   ],
   "source": [
    "X_train_scaled_rgb.shape"
   ]
  },
  {
   "cell_type": "code",
   "execution_count": 33,
   "metadata": {},
   "outputs": [],
   "source": [
    "X_test_scaled_rgb = np.zeros(shape=(X_test_scaled.shape[0], img_rows, img_cols, 3))\n",
    "for i in range(X_test_scaled.shape[0]):\n",
    "    reshape_img = np.pad(X_test_scaled[i,:,:,0], (2,2), mode='edge')\n",
    "#     reshape_img.shape\n",
    "    X_test_scaled_rgb[i,:,:,0] = reshape_img\n",
    "    X_test_scaled_rgb[i,:,:,1] = reshape_img\n",
    "    X_test_scaled_rgb[i,:,:,2] = reshape_img"
   ]
  },
  {
   "cell_type": "code",
   "execution_count": 34,
   "metadata": {},
   "outputs": [
    {
     "data": {
      "text/plain": [
       "(1991, 32, 32, 3)"
      ]
     },
     "execution_count": 34,
     "metadata": {},
     "output_type": "execute_result"
    }
   ],
   "source": [
    "X_test_scaled_rgb.shape"
   ]
  },
  {
   "cell_type": "code",
   "execution_count": 35,
   "metadata": {},
   "outputs": [],
   "source": [
    "input_shape_nn = (img_rows, img_cols, 3)"
   ]
  },
  {
   "cell_type": "markdown",
   "metadata": {},
   "source": [
    "Importamos el modelo VGG 16"
   ]
  },
  {
   "cell_type": "code",
   "execution_count": 36,
   "metadata": {},
   "outputs": [],
   "source": [
    "from keras.applications.vgg16 import VGG16\n",
    "model = models.Sequential()\n",
    "conv_vgg = VGG16(include_top=False, weights='imagenet', input_shape=input_shape_nn)"
   ]
  },
  {
   "cell_type": "markdown",
   "metadata": {},
   "source": [
    "Y esta es la estructura que presenta"
   ]
  },
  {
   "cell_type": "code",
   "execution_count": 37,
   "metadata": {
    "scrolled": true
   },
   "outputs": [
    {
     "name": "stdout",
     "output_type": "stream",
     "text": [
      "Model: \"vgg16\"\n",
      "_________________________________________________________________\n",
      "Layer (type)                 Output Shape              Param #   \n",
      "=================================================================\n",
      "input_1 (InputLayer)         (None, 32, 32, 3)         0         \n",
      "_________________________________________________________________\n",
      "block1_conv1 (Conv2D)        (None, 32, 32, 64)        1792      \n",
      "_________________________________________________________________\n",
      "block1_conv2 (Conv2D)        (None, 32, 32, 64)        36928     \n",
      "_________________________________________________________________\n",
      "block1_pool (MaxPooling2D)   (None, 16, 16, 64)        0         \n",
      "_________________________________________________________________\n",
      "block2_conv1 (Conv2D)        (None, 16, 16, 128)       73856     \n",
      "_________________________________________________________________\n",
      "block2_conv2 (Conv2D)        (None, 16, 16, 128)       147584    \n",
      "_________________________________________________________________\n",
      "block2_pool (MaxPooling2D)   (None, 8, 8, 128)         0         \n",
      "_________________________________________________________________\n",
      "block3_conv1 (Conv2D)        (None, 8, 8, 256)         295168    \n",
      "_________________________________________________________________\n",
      "block3_conv2 (Conv2D)        (None, 8, 8, 256)         590080    \n",
      "_________________________________________________________________\n",
      "block3_conv3 (Conv2D)        (None, 8, 8, 256)         590080    \n",
      "_________________________________________________________________\n",
      "block3_pool (MaxPooling2D)   (None, 4, 4, 256)         0         \n",
      "_________________________________________________________________\n",
      "block4_conv1 (Conv2D)        (None, 4, 4, 512)         1180160   \n",
      "_________________________________________________________________\n",
      "block4_conv2 (Conv2D)        (None, 4, 4, 512)         2359808   \n",
      "_________________________________________________________________\n",
      "block4_conv3 (Conv2D)        (None, 4, 4, 512)         2359808   \n",
      "_________________________________________________________________\n",
      "block4_pool (MaxPooling2D)   (None, 2, 2, 512)         0         \n",
      "_________________________________________________________________\n",
      "block5_conv1 (Conv2D)        (None, 2, 2, 512)         2359808   \n",
      "_________________________________________________________________\n",
      "block5_conv2 (Conv2D)        (None, 2, 2, 512)         2359808   \n",
      "_________________________________________________________________\n",
      "block5_conv3 (Conv2D)        (None, 2, 2, 512)         2359808   \n",
      "_________________________________________________________________\n",
      "block5_pool (MaxPooling2D)   (None, 1, 1, 512)         0         \n",
      "=================================================================\n",
      "Total params: 14,714,688\n",
      "Trainable params: 14,714,688\n",
      "Non-trainable params: 0\n",
      "_________________________________________________________________\n"
     ]
    }
   ],
   "source": [
    "conv_vgg.summary()"
   ]
  },
  {
   "cell_type": "markdown",
   "metadata": {},
   "source": [
    "Lo que hacemos a continuación, es definir estas capas como no entrenables:"
   ]
  },
  {
   "cell_type": "code",
   "execution_count": 38,
   "metadata": {},
   "outputs": [],
   "source": [
    "for layer in conv_vgg.layers:\n",
    "    layer.trainable = False"
   ]
  },
  {
   "cell_type": "markdown",
   "metadata": {},
   "source": [
    "Y por último, añadimos este modelo a nuestro modelo original como si fuera una capa más y creamos unas cuantas capas más que serán las que entrenaremos"
   ]
  },
  {
   "cell_type": "code",
   "execution_count": 39,
   "metadata": {},
   "outputs": [],
   "source": [
    "model.add(conv_vgg)"
   ]
  },
  {
   "cell_type": "code",
   "execution_count": 40,
   "metadata": {},
   "outputs": [],
   "source": [
    "model.add(layers.Flatten())\n",
    "model.add(layers.Dense(16, activation='relu', kernel_initializer='he_uniform'))\n",
    "model.add(layers.Dense(1, activation='sigmoid'))"
   ]
  },
  {
   "cell_type": "code",
   "execution_count": 41,
   "metadata": {},
   "outputs": [
    {
     "name": "stdout",
     "output_type": "stream",
     "text": [
      "Model: \"sequential_2\"\n",
      "_________________________________________________________________\n",
      "Layer (type)                 Output Shape              Param #   \n",
      "=================================================================\n",
      "vgg16 (Model)                (None, 1, 1, 512)         14714688  \n",
      "_________________________________________________________________\n",
      "flatten_2 (Flatten)          (None, 512)               0         \n",
      "_________________________________________________________________\n",
      "dense_3 (Dense)              (None, 16)                8208      \n",
      "_________________________________________________________________\n",
      "dense_4 (Dense)              (None, 1)                 17        \n",
      "=================================================================\n",
      "Total params: 14,722,913\n",
      "Trainable params: 8,225\n",
      "Non-trainable params: 14,714,688\n",
      "_________________________________________________________________\n"
     ]
    }
   ],
   "source": [
    "model.summary()"
   ]
  },
  {
   "cell_type": "markdown",
   "metadata": {},
   "source": [
    "Como se puede observar en el resumen, ahora los parametros entrenables son 8k, mientras que los no entrenables son 14 M"
   ]
  },
  {
   "cell_type": "code",
   "execution_count": 42,
   "metadata": {},
   "outputs": [],
   "source": [
    "from keras.optimizers import SGD\n",
    "# compile model\n",
    "optim = SGD(lr=0.001)\n",
    "model.compile(optimizer=optim, loss='binary_crossentropy', metrics=['accuracy'])"
   ]
  },
  {
   "cell_type": "code",
   "execution_count": 43,
   "metadata": {
    "scrolled": true
   },
   "outputs": [
    {
     "name": "stdout",
     "output_type": "stream",
     "text": [
      "Train on 9432 samples, validate on 2359 samples\n",
      "Epoch 1/30\n",
      "9432/9432 [==============================] - 32s 3ms/step - loss: 0.6520 - accuracy: 0.6868 - val_loss: 0.5966 - val_accuracy: 0.8538\n",
      "Epoch 2/30\n",
      "9432/9432 [==============================] - 32s 3ms/step - loss: 0.5697 - accuracy: 0.8713 - val_loss: 0.5290 - val_accuracy: 0.8949\n",
      "Epoch 3/30\n",
      "9432/9432 [==============================] - 30s 3ms/step - loss: 0.5082 - accuracy: 0.8982 - val_loss: 0.4679 - val_accuracy: 0.9114\n",
      "Epoch 4/30\n",
      "9432/9432 [==============================] - 32s 3ms/step - loss: 0.4521 - accuracy: 0.9123 - val_loss: 0.4128 - val_accuracy: 0.9190\n",
      "Epoch 5/30\n",
      "9432/9432 [==============================] - 33s 3ms/step - loss: 0.4015 - accuracy: 0.9220 - val_loss: 0.3649 - val_accuracy: 0.9258\n",
      "Epoch 6/30\n",
      "9432/9432 [==============================] - 33s 3ms/step - loss: 0.3571 - accuracy: 0.9299 - val_loss: 0.3226 - val_accuracy: 0.9343\n",
      "Epoch 7/30\n",
      "9432/9432 [==============================] - 33s 3ms/step - loss: 0.3185 - accuracy: 0.9381 - val_loss: 0.2872 - val_accuracy: 0.9385\n",
      "Epoch 8/30\n",
      "9432/9432 [==============================] - 32s 3ms/step - loss: 0.2855 - accuracy: 0.9461 - val_loss: 0.2573 - val_accuracy: 0.9479\n",
      "Epoch 9/30\n",
      "9432/9432 [==============================] - 32s 3ms/step - loss: 0.2577 - accuracy: 0.9507 - val_loss: 0.2323 - val_accuracy: 0.9542\n",
      "Epoch 10/30\n",
      "9432/9432 [==============================] - 31s 3ms/step - loss: 0.2340 - accuracy: 0.9550 - val_loss: 0.2113 - val_accuracy: 0.9602\n",
      "Epoch 11/30\n",
      "9432/9432 [==============================] - 31s 3ms/step - loss: 0.2138 - accuracy: 0.9584 - val_loss: 0.1934 - val_accuracy: 0.9606\n",
      "Epoch 12/30\n",
      "9432/9432 [==============================] - 31s 3ms/step - loss: 0.1966 - accuracy: 0.9623 - val_loss: 0.1783 - val_accuracy: 0.9635\n",
      "Epoch 13/30\n",
      "9432/9432 [==============================] - 32s 3ms/step - loss: 0.1818 - accuracy: 0.9651 - val_loss: 0.1654 - val_accuracy: 0.9657\n",
      "Epoch 14/30\n",
      "9432/9432 [==============================] - 32s 3ms/step - loss: 0.1690 - accuracy: 0.9664 - val_loss: 0.1542 - val_accuracy: 0.9665\n",
      "Epoch 15/30\n",
      "9432/9432 [==============================] - 32s 3ms/step - loss: 0.1579 - accuracy: 0.9689 - val_loss: 0.1447 - val_accuracy: 0.9682\n",
      "Epoch 16/30\n",
      "9432/9432 [==============================] - 34s 4ms/step - loss: 0.1483 - accuracy: 0.9707 - val_loss: 0.1364 - val_accuracy: 0.9695\n",
      "Epoch 17/30\n",
      "9432/9432 [==============================] - 33s 3ms/step - loss: 0.1399 - accuracy: 0.9722 - val_loss: 0.1292 - val_accuracy: 0.9724\n",
      "Epoch 18/30\n",
      "9432/9432 [==============================] - 32s 3ms/step - loss: 0.1325 - accuracy: 0.9722 - val_loss: 0.1231 - val_accuracy: 0.9720\n",
      "Epoch 19/30\n",
      "9432/9432 [==============================] - 32s 3ms/step - loss: 0.1260 - accuracy: 0.9737 - val_loss: 0.1174 - val_accuracy: 0.9724\n",
      "Epoch 20/30\n",
      "9432/9432 [==============================] - 33s 3ms/step - loss: 0.1202 - accuracy: 0.9749 - val_loss: 0.1121 - val_accuracy: 0.9733\n",
      "Epoch 21/30\n",
      "9432/9432 [==============================] - 33s 3ms/step - loss: 0.1150 - accuracy: 0.9755 - val_loss: 0.1078 - val_accuracy: 0.9737\n",
      "Epoch 22/30\n",
      "9432/9432 [==============================] - 32s 3ms/step - loss: 0.1104 - accuracy: 0.9756 - val_loss: 0.1038 - val_accuracy: 0.9741\n",
      "Epoch 23/30\n",
      "9432/9432 [==============================] - 32s 3ms/step - loss: 0.1062 - accuracy: 0.9761 - val_loss: 0.1002 - val_accuracy: 0.9750\n",
      "Epoch 24/30\n",
      "9432/9432 [==============================] - 33s 3ms/step - loss: 0.1025 - accuracy: 0.9770 - val_loss: 0.0972 - val_accuracy: 0.9750\n",
      "Epoch 25/30\n",
      "9432/9432 [==============================] - 32s 3ms/step - loss: 0.0991 - accuracy: 0.9782 - val_loss: 0.0943 - val_accuracy: 0.9758\n",
      "Epoch 26/30\n",
      "9432/9432 [==============================] - 32s 3ms/step - loss: 0.0960 - accuracy: 0.9778 - val_loss: 0.0916 - val_accuracy: 0.9763\n",
      "Epoch 27/30\n",
      "9432/9432 [==============================] - 32s 3ms/step - loss: 0.0932 - accuracy: 0.9789 - val_loss: 0.0894 - val_accuracy: 0.9763\n",
      "Epoch 28/30\n",
      "9432/9432 [==============================] - 32s 3ms/step - loss: 0.0906 - accuracy: 0.9792 - val_loss: 0.0872 - val_accuracy: 0.9767\n",
      "Epoch 29/30\n",
      "9432/9432 [==============================] - 32s 3ms/step - loss: 0.0882 - accuracy: 0.9800 - val_loss: 0.0851 - val_accuracy: 0.9758\n",
      "Epoch 30/30\n",
      "9432/9432 [==============================] - 31s 3ms/step - loss: 0.0861 - accuracy: 0.9807 - val_loss: 0.0833 - val_accuracy: 0.9771\n"
     ]
    }
   ],
   "source": [
    "history = model.fit(X_train_scaled_rgb, y_train_new_values, validation_split=0.2, epochs=30)"
   ]
  },
  {
   "cell_type": "markdown",
   "metadata": {},
   "source": [
    "En este caso, al ser una red mucho más compleja que la mostrada arriba, los datos tienen que recorrer toda la red \n",
    "y tarda más en entrenarse. Sin embargo, este es un caso muy sencillo en el que es muy fácil obtener un resultado muy bueno.\n",
    "De hecho, se puede observar que los resultados obtenidos son mejores, y no hemos tenido que estar probando distintas estructuras de la red."
   ]
  },
  {
   "cell_type": "code",
   "execution_count": 44,
   "metadata": {},
   "outputs": [
    {
     "data": {
      "image/png": "[encoded data removed]",
      "text/plain": [
       "<Figure size 432x288 with 1 Axes>"
      ]
     },
     "metadata": {
      "needs_background": "light"
     },
     "output_type": "display_data"
    }
   ],
   "source": [
    "plt.plot(history.history['loss'])\n",
    "plt.plot(history.history['val_loss'])\n",
    "plt.title('model loss')\n",
    "plt.ylabel('loss')\n",
    "plt.xlabel('epoch')\n",
    "plt.legend(['train', 'test'], loc='upper left')\n",
    "plt.show()"
   ]
  },
  {
   "cell_type": "markdown",
   "metadata": {},
   "source": [
    "Vemos como la función de perdida ha ido disminuyendo en cada época."
   ]
  },
  {
   "cell_type": "code",
   "execution_count": 45,
   "metadata": {},
   "outputs": [],
   "source": [
    "from sklearn.metrics import accuracy_score\n",
    "prediccion = model.predict(X_test_scaled_rgb)"
   ]
  },
  {
   "cell_type": "code",
   "execution_count": 46,
   "metadata": {},
   "outputs": [
    {
     "data": {
      "text/plain": [
       "0.9799095931692616"
      ]
     },
     "execution_count": 46,
     "metadata": {},
     "output_type": "execute_result"
    }
   ],
   "source": [
    "accuracy_score(y_test_new_values, np.round(prediccion))"
   ]
  },
  {
   "cell_type": "code",
   "execution_count": 47,
   "metadata": {},
   "outputs": [
    {
     "data": {
      "text/plain": [
       "array([[974,   8],\n",
       "       [ 32, 977]], dtype=int64)"
      ]
     },
     "execution_count": 47,
     "metadata": {},
     "output_type": "execute_result"
    }
   ],
   "source": [
    "from sklearn.metrics import confusion_matrix\n",
    "confusion_matrix(y_test_new_values, np.round(prediccion))"
   ]
  },
  {
   "cell_type": "code",
   "execution_count": null,
   "metadata": {},
   "outputs": [],
   "source": []
  }
 ],
 "metadata": {
  "kernelspec": {
   "display_name": "Python 3",
   "language": "python",
   "name": "python3"
  },
  "language_info": {
   "codemirror_mode": {
    "name": "ipython",
    "version": 3
   },
   "file_extension": ".py",
   "mimetype": "text/x-python",
   "name": "python",
   "nbconvert_exporter": "python",
   "pygments_lexer": "ipython3",
   "version": "3.7.4"
  }
 },
 "nbformat": 4,
 "nbformat_minor": 2
}
